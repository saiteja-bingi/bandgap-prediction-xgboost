{
  "cells": [
    {
      "cell_type": "code",
      "execution_count": null,
      "id": "875b9fb6-a823-4dda-99c2-956c8d8db90f",
      "metadata": {
        "colab": {
          "base_uri": "https://localhost:8080/"
        },
        "collapsed": true,
        "id": "875b9fb6-a823-4dda-99c2-956c8d8db90f",
        "outputId": "d438ebf1-93ab-48ad-acd4-d48ff2104134"
      },
      "outputs": [],
      "source": [
        "%pip install mp-api pymatgen matminer pandas scikit-learn matplotlib\n",
        "\n",
        "%pip freeze > requirements.txt\n",
        "%pip install -r requirements.txt\n"
      ]
    },
    {
      "cell_type": "code",
      "execution_count": null,
      "id": "OCvbujkYlXx4",
      "metadata": {
        "id": "OCvbujkYlXx4"
      },
      "outputs": [],
      "source": [
        "import pandas as pd\n",
        "from mp_api.client import MPRester\n",
        "from pymatgen.core import Element\n",
        "from sklearn.ensemble import GradientBoostingRegressor\n",
        "from sklearn.model_selection import train_test_split\n",
        "from sklearn.metrics import mean_absolute_error\n",
        "import matplotlib.pyplot as plt\n"
      ]
    },
    {
      "cell_type": "code",
      "execution_count": null,
      "id": "791608d8-75ad-4c9c-878a-856cc3e458fc",
      "metadata": {
        "colab": {
          "base_uri": "https://localhost:8080/",
          "height": 104,
          "referenced_widgets": [
            "7adaf8380d2745bb985601b61581d9d4",
            "561f1a97a0d84261b4571ffdb335ec2b",
            "7bab1100e8044d6791907e0f51468b7d",
            "4981ce2dfe9a4b1faa40cc1109d141fd",
            "7002d15a5a33474eabecafd793e2764b",
            "eb20fa77d2484a508df16135092547eb",
            "8256e9359baa4aaf963f652db72ea75a",
            "0be0a1c480074042a86295b9d04d1e38",
            "38d166511ca0457bb366db74d717619c",
            "eba8c4c8dc0d45f4bbfb878378e60041",
            "85313dd403a04870b5c051c6de56727d"
          ]
        },
        "id": "791608d8-75ad-4c9c-878a-856cc3e458fc",
        "outputId": "3d8b90c3-29fb-4fd2-d454-8576608217e1"
      },
      "outputs": [],
      "source": [
        "API_KEY = \"n4VeRex2uzZ3j0mSztAco3xWB5wIKqf5\"\n",
        "mpr = MPRester(API_KEY)\n",
        "\n",
        "data = mpr.materials.summary.search(\n",
        "    band_gap=(0.1, None),\n",
        "    deprecated=False,\n",
        "    num_chunks=10,\n",
        "    chunk_size=100\n",
        ")\n",
        "\n",
        "df_real = pd.DataFrame([d.model_dump() for d in data])\n",
        "\n"
      ]
    },
    {
      "cell_type": "code",
      "execution_count": null,
      "id": "c7bb6cc1-cb30-4325-965e-2d9db5cf021e",
      "metadata": {
        "colab": {
          "base_uri": "https://localhost:8080/",
          "height": 637
        },
        "collapsed": true,
        "id": "c7bb6cc1-cb30-4325-965e-2d9db5cf021e",
        "outputId": "a333cf86-212e-4d3f-989a-55967d2958ef"
      },
      "outputs": [],
      "source": [
        "\n",
        "df_real.rename(columns={\n",
        "    \"band_gap\": \"Bandgap\",\n",
        "    \"formation_energy_per_atom\": \"Formation Energy\",\n",
        "    \"energy_above_hull\": \"Stability\",\n",
        "    \"formula_pretty\": \"Formula\",\n",
        "    \"density\": \"Density\",\n",
        "    \"volume\": \"Volume\"\n",
        "}, inplace=True)\n",
        "\n",
        "\n",
        "def mean_electronegativity(elements):\n",
        "    try:\n",
        "        return sum(Element(e).X for e in elements) / len(elements)\n",
        "    except:\n",
        "        return None\n",
        "\n",
        "df_real[\"Mean Electronegativity\"] = df_real[\"elements\"].apply(mean_electronegativity)\n",
        "\n",
        "df_real.dropna(subset=[\"Formation Energy\", \"Stability\", \"Density\", \"Volume\", \"Mean Electronegativity\"], inplace=True)\n",
        "\n",
        "print(f\"Total materials after cleaning: {len(df_real)}\")\n",
        "df_real.head()\n",
        "\n"
      ]
    },
    {
      "cell_type": "code",
      "execution_count": null,
      "id": "15b3e9d8-6f00-4cf8-8346-46d8e88b1ece",
      "metadata": {
        "colab": {
          "base_uri": "https://localhost:8080/"
        },
        "id": "15b3e9d8-6f00-4cf8-8346-46d8e88b1ece",
        "outputId": "de366c24-f929-47e6-8d68-d22cf7eeca31"
      },
      "outputs": [],
      "source": [
        "\n",
        "X = df_real[[\"Formation Energy\", \"Stability\", \"Density\", \"Volume\", \"Mean Electronegativity\"]]\n",
        "y = df_real[\"Bandgap\"]\n",
        "\n",
        "\n",
        "X_train, X_test, y_train, y_test = train_test_split(X, y, test_size=0.2, random_state=42)\n",
        "\n",
        "print(\"Training features shape:\", X_train.shape)\n",
        "print(\"Testing features shape:\", X_test.shape)\n"
      ]
    },
    {
      "cell_type": "code",
      "execution_count": null,
      "id": "8464a171",
      "metadata": {},
      "outputs": [],
      "source": [
        "from xgboost import XGBRegressor\n",
        "\n",
        "# Train XGBoost model\n",
        "xgb_model = XGBRegressor(n_estimators=200, learning_rate=0.05, random_state=42, verbosity=0)\n",
        "xgb_model.fit(X_train, y_train)\n",
        "print(\"XGBoost model training completed!\")\n",
        "\n",
        "# Predict\n",
        "y_pred = xgb_model.predict(X_test)\n",
        "mae = mean_absolute_error(y_test, y_pred)\n",
        "\n",
        "print(\"Predicted Bandgap values:\", y_pred)\n",
        "print(\"Actual Bandgap values:\", y_test.values)\n",
        "print(\"Mean Absolute Error (MAE):\", mae)\n"
      ]
    },
    {
      "cell_type": "code",
      "execution_count": null,
      "id": "gclwnsuqlq43",
      "metadata": {
        "colab": {
          "base_uri": "https://localhost:8080/"
        },
        "id": "gclwnsuqlq43",
        "outputId": "07c3caac-c374-43d0-d5a7-e65af729bdb6"
      },
      "outputs": [],
      "source": [
        "model = GradientBoostingRegressor(n_estimators=200, learning_rate=0.05, random_state=42)\n",
        "model.fit(X_train, y_train)\n",
        "print(\"Model training completed!\")\n"
      ]
    },
    {
      "cell_type": "code",
      "execution_count": null,
      "id": "RA5dKS3glvVn",
      "metadata": {
        "colab": {
          "base_uri": "https://localhost:8080/"
        },
        "collapsed": true,
        "id": "RA5dKS3glvVn",
        "outputId": "63e295da-7873-4134-a8a2-e7d1961af949"
      },
      "outputs": [],
      "source": [
        "y_pred = model.predict(X_test)\n",
        "mae = mean_absolute_error(y_test, y_pred)\n",
        "\n",
        "print(\"Predicted Bandgap values:\", y_pred)\n",
        "print(\"Actual Bandgap values:\", y_test.values)\n",
        "print(\"Mean Absolute Error (MAE):\", mae)\n"
      ]
    },
    {
      "cell_type": "code",
      "execution_count": null,
      "id": "4a5d8332",
      "metadata": {},
      "outputs": [],
      "source": [
        "import matplotlib.pyplot as plt\n",
        "\n",
        "# Plot predicted vs actual bandgap values\n",
        "plt.figure(figsize=(8, 6))\n",
        "plt.scatter(y_test, y_pred, alpha=0.7, color=\"royalblue\", edgecolors='k')\n",
        "plt.plot([y.min(), y.max()], [y.min(), y.max()], '--r', linewidth=2)\n",
        "plt.xlabel(\"Actual Bandgap\")\n",
        "plt.ylabel(\"Predicted Bandgap\")\n",
        "plt.title(\"XGBoost: Actual vs Predicted Bandgap\")\n",
        "plt.grid(True)\n",
        "plt.tight_layout()\n",
        "plt.show()\n"
      ]
    },
    {
      "cell_type": "code",
      "execution_count": null,
      "id": "kN-GDpfslxgM",
      "metadata": {
        "colab": {
          "base_uri": "https://localhost:8080/",
          "height": 564
        },
        "collapsed": true,
        "id": "kN-GDpfslxgM",
        "outputId": "01b4856c-b0cb-4f70-945f-f36c30992003"
      },
      "outputs": [],
      "source": [
        "plt.figure(figsize=(8, 6))\n",
        "plt.scatter(y_test, y_pred, color='blue', label='Predicted vs. Actual')\n",
        "plt.plot([min(y_test), max(y_test)], [min(y_test), max(y_test)], color='red', linestyle='--', label='Ideal Prediction')\n",
        "plt.xlabel(\"Actual Bandgap (eV)\")\n",
        "plt.ylabel(\"Predicted Bandgap (eV)\")\n",
        "plt.title(\"Predicted vs. Actual Bandgap (Gradient Boosting)\")\n",
        "plt.legend()\n",
        "plt.grid(True)\n",
        "plt.show()\n"
      ]
    },
    {
      "cell_type": "code",
      "execution_count": null,
      "id": "uF-fRL8llxoe",
      "metadata": {
        "colab": {
          "base_uri": "https://localhost:8080/",
          "height": 564
        },
        "collapsed": true,
        "id": "uF-fRL8llxoe",
        "outputId": "c37e44aa-8a86-4174-8b78-47ce39969f57"
      },
      "outputs": [],
      "source": [
        "importances = model.feature_importances_\n",
        "feature_names = X.columns\n",
        "\n",
        "plt.figure(figsize=(8, 6))\n",
        "plt.barh(feature_names, importances, color='skyblue')\n",
        "plt.xlabel(\"Feature Importance\")\n",
        "plt.ylabel(\"Features\")\n",
        "plt.title(\"Feature Importance for Bandgap Prediction\")\n",
        "plt.show()\n"
      ]
    }
  ],
  "metadata": {
    "accelerator": "GPU",
    "colab": {
      "gpuType": "T4",
      "provenance": []
    },
    "kernelspec": {
      "display_name": "Python 3",
      "name": "python3"
    },
    "language_info": {
      "codemirror_mode": {
        "name": "ipython",
        "version": 3
      },
      "file_extension": ".py",
      "mimetype": "text/x-python",
      "name": "python",
      "nbconvert_exporter": "python",
      "pygments_lexer": "ipython3",
      "version": "3.12.2"
    },
    "widgets": {
      "application/vnd.jupyter.widget-state+json": {
        "0be0a1c480074042a86295b9d04d1e38": {
          "model_module": "@jupyter-widgets/base",
          "model_module_version": "1.2.0",
          "model_name": "LayoutModel",
          "state": {
            "_model_module": "@jupyter-widgets/base",
            "_model_module_version": "1.2.0",
            "_model_name": "LayoutModel",
            "_view_count": null,
            "_view_module": "@jupyter-widgets/base",
            "_view_module_version": "1.2.0",
            "_view_name": "LayoutView",
            "align_content": null,
            "align_items": null,
            "align_self": null,
            "border": null,
            "bottom": null,
            "display": null,
            "flex": null,
            "flex_flow": null,
            "grid_area": null,
            "grid_auto_columns": null,
            "grid_auto_flow": null,
            "grid_auto_rows": null,
            "grid_column": null,
            "grid_gap": null,
            "grid_row": null,
            "grid_template_areas": null,
            "grid_template_columns": null,
            "grid_template_rows": null,
            "height": null,
            "justify_content": null,
            "justify_items": null,
            "left": null,
            "margin": null,
            "max_height": null,
            "max_width": null,
            "min_height": null,
            "min_width": null,
            "object_fit": null,
            "object_position": null,
            "order": null,
            "overflow": null,
            "overflow_x": null,
            "overflow_y": null,
            "padding": null,
            "right": null,
            "top": null,
            "visibility": null,
            "width": null
          }
        },
        "38d166511ca0457bb366db74d717619c": {
          "model_module": "@jupyter-widgets/controls",
          "model_module_version": "1.5.0",
          "model_name": "ProgressStyleModel",
          "state": {
            "_model_module": "@jupyter-widgets/controls",
            "_model_module_version": "1.5.0",
            "_model_name": "ProgressStyleModel",
            "_view_count": null,
            "_view_module": "@jupyter-widgets/base",
            "_view_module_version": "1.2.0",
            "_view_name": "StyleView",
            "bar_color": null,
            "description_width": ""
          }
        },
        "4981ce2dfe9a4b1faa40cc1109d141fd": {
          "model_module": "@jupyter-widgets/controls",
          "model_module_version": "1.5.0",
          "model_name": "HTMLModel",
          "state": {
            "_dom_classes": [],
            "_model_module": "@jupyter-widgets/controls",
            "_model_module_version": "1.5.0",
            "_model_name": "HTMLModel",
            "_view_count": null,
            "_view_module": "@jupyter-widgets/controls",
            "_view_module_version": "1.5.0",
            "_view_name": "HTMLView",
            "description": "",
            "description_tooltip": null,
            "layout": "IPY_MODEL_eba8c4c8dc0d45f4bbfb878378e60041",
            "placeholder": "​",
            "style": "IPY_MODEL_85313dd403a04870b5c051c6de56727d",
            "value": " 1000/1000 [00:35&lt;00:00, 43.91it/s]"
          }
        },
        "561f1a97a0d84261b4571ffdb335ec2b": {
          "model_module": "@jupyter-widgets/controls",
          "model_module_version": "1.5.0",
          "model_name": "HTMLModel",
          "state": {
            "_dom_classes": [],
            "_model_module": "@jupyter-widgets/controls",
            "_model_module_version": "1.5.0",
            "_model_name": "HTMLModel",
            "_view_count": null,
            "_view_module": "@jupyter-widgets/controls",
            "_view_module_version": "1.5.0",
            "_view_name": "HTMLView",
            "description": "",
            "description_tooltip": null,
            "layout": "IPY_MODEL_eb20fa77d2484a508df16135092547eb",
            "placeholder": "​",
            "style": "IPY_MODEL_8256e9359baa4aaf963f652db72ea75a",
            "value": "Retrieving SummaryDoc documents: 100%"
          }
        },
        "7002d15a5a33474eabecafd793e2764b": {
          "model_module": "@jupyter-widgets/base",
          "model_module_version": "1.2.0",
          "model_name": "LayoutModel",
          "state": {
            "_model_module": "@jupyter-widgets/base",
            "_model_module_version": "1.2.0",
            "_model_name": "LayoutModel",
            "_view_count": null,
            "_view_module": "@jupyter-widgets/base",
            "_view_module_version": "1.2.0",
            "_view_name": "LayoutView",
            "align_content": null,
            "align_items": null,
            "align_self": null,
            "border": null,
            "bottom": null,
            "display": null,
            "flex": null,
            "flex_flow": null,
            "grid_area": null,
            "grid_auto_columns": null,
            "grid_auto_flow": null,
            "grid_auto_rows": null,
            "grid_column": null,
            "grid_gap": null,
            "grid_row": null,
            "grid_template_areas": null,
            "grid_template_columns": null,
            "grid_template_rows": null,
            "height": null,
            "justify_content": null,
            "justify_items": null,
            "left": null,
            "margin": null,
            "max_height": null,
            "max_width": null,
            "min_height": null,
            "min_width": null,
            "object_fit": null,
            "object_position": null,
            "order": null,
            "overflow": null,
            "overflow_x": null,
            "overflow_y": null,
            "padding": null,
            "right": null,
            "top": null,
            "visibility": null,
            "width": null
          }
        },
        "7adaf8380d2745bb985601b61581d9d4": {
          "model_module": "@jupyter-widgets/controls",
          "model_module_version": "1.5.0",
          "model_name": "HBoxModel",
          "state": {
            "_dom_classes": [],
            "_model_module": "@jupyter-widgets/controls",
            "_model_module_version": "1.5.0",
            "_model_name": "HBoxModel",
            "_view_count": null,
            "_view_module": "@jupyter-widgets/controls",
            "_view_module_version": "1.5.0",
            "_view_name": "HBoxView",
            "box_style": "",
            "children": [
              "IPY_MODEL_561f1a97a0d84261b4571ffdb335ec2b",
              "IPY_MODEL_7bab1100e8044d6791907e0f51468b7d",
              "IPY_MODEL_4981ce2dfe9a4b1faa40cc1109d141fd"
            ],
            "layout": "IPY_MODEL_7002d15a5a33474eabecafd793e2764b"
          }
        },
        "7bab1100e8044d6791907e0f51468b7d": {
          "model_module": "@jupyter-widgets/controls",
          "model_module_version": "1.5.0",
          "model_name": "FloatProgressModel",
          "state": {
            "_dom_classes": [],
            "_model_module": "@jupyter-widgets/controls",
            "_model_module_version": "1.5.0",
            "_model_name": "FloatProgressModel",
            "_view_count": null,
            "_view_module": "@jupyter-widgets/controls",
            "_view_module_version": "1.5.0",
            "_view_name": "ProgressView",
            "bar_style": "success",
            "description": "",
            "description_tooltip": null,
            "layout": "IPY_MODEL_0be0a1c480074042a86295b9d04d1e38",
            "max": 1000,
            "min": 0,
            "orientation": "horizontal",
            "style": "IPY_MODEL_38d166511ca0457bb366db74d717619c",
            "value": 1000
          }
        },
        "8256e9359baa4aaf963f652db72ea75a": {
          "model_module": "@jupyter-widgets/controls",
          "model_module_version": "1.5.0",
          "model_name": "DescriptionStyleModel",
          "state": {
            "_model_module": "@jupyter-widgets/controls",
            "_model_module_version": "1.5.0",
            "_model_name": "DescriptionStyleModel",
            "_view_count": null,
            "_view_module": "@jupyter-widgets/base",
            "_view_module_version": "1.2.0",
            "_view_name": "StyleView",
            "description_width": ""
          }
        },
        "85313dd403a04870b5c051c6de56727d": {
          "model_module": "@jupyter-widgets/controls",
          "model_module_version": "1.5.0",
          "model_name": "DescriptionStyleModel",
          "state": {
            "_model_module": "@jupyter-widgets/controls",
            "_model_module_version": "1.5.0",
            "_model_name": "DescriptionStyleModel",
            "_view_count": null,
            "_view_module": "@jupyter-widgets/base",
            "_view_module_version": "1.2.0",
            "_view_name": "StyleView",
            "description_width": ""
          }
        },
        "eb20fa77d2484a508df16135092547eb": {
          "model_module": "@jupyter-widgets/base",
          "model_module_version": "1.2.0",
          "model_name": "LayoutModel",
          "state": {
            "_model_module": "@jupyter-widgets/base",
            "_model_module_version": "1.2.0",
            "_model_name": "LayoutModel",
            "_view_count": null,
            "_view_module": "@jupyter-widgets/base",
            "_view_module_version": "1.2.0",
            "_view_name": "LayoutView",
            "align_content": null,
            "align_items": null,
            "align_self": null,
            "border": null,
            "bottom": null,
            "display": null,
            "flex": null,
            "flex_flow": null,
            "grid_area": null,
            "grid_auto_columns": null,
            "grid_auto_flow": null,
            "grid_auto_rows": null,
            "grid_column": null,
            "grid_gap": null,
            "grid_row": null,
            "grid_template_areas": null,
            "grid_template_columns": null,
            "grid_template_rows": null,
            "height": null,
            "justify_content": null,
            "justify_items": null,
            "left": null,
            "margin": null,
            "max_height": null,
            "max_width": null,
            "min_height": null,
            "min_width": null,
            "object_fit": null,
            "object_position": null,
            "order": null,
            "overflow": null,
            "overflow_x": null,
            "overflow_y": null,
            "padding": null,
            "right": null,
            "top": null,
            "visibility": null,
            "width": null
          }
        },
        "eba8c4c8dc0d45f4bbfb878378e60041": {
          "model_module": "@jupyter-widgets/base",
          "model_module_version": "1.2.0",
          "model_name": "LayoutModel",
          "state": {
            "_model_module": "@jupyter-widgets/base",
            "_model_module_version": "1.2.0",
            "_model_name": "LayoutModel",
            "_view_count": null,
            "_view_module": "@jupyter-widgets/base",
            "_view_module_version": "1.2.0",
            "_view_name": "LayoutView",
            "align_content": null,
            "align_items": null,
            "align_self": null,
            "border": null,
            "bottom": null,
            "display": null,
            "flex": null,
            "flex_flow": null,
            "grid_area": null,
            "grid_auto_columns": null,
            "grid_auto_flow": null,
            "grid_auto_rows": null,
            "grid_column": null,
            "grid_gap": null,
            "grid_row": null,
            "grid_template_areas": null,
            "grid_template_columns": null,
            "grid_template_rows": null,
            "height": null,
            "justify_content": null,
            "justify_items": null,
            "left": null,
            "margin": null,
            "max_height": null,
            "max_width": null,
            "min_height": null,
            "min_width": null,
            "object_fit": null,
            "object_position": null,
            "order": null,
            "overflow": null,
            "overflow_x": null,
            "overflow_y": null,
            "padding": null,
            "right": null,
            "top": null,
            "visibility": null,
            "width": null
          }
        }
      }
    }
  },
  "nbformat": 4,
  "nbformat_minor": 5
}
